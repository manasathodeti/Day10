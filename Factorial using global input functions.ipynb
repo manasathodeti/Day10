{
 "cells": [
  {
   "cell_type": "code",
   "execution_count": 7,
   "id": "09f058b6-e235-44bd-9fdc-104d907a8a67",
   "metadata": {},
   "outputs": [
    {
     "name": "stdin",
     "output_type": "stream",
     "text": [
      "Enter a number 7\n"
     ]
    },
    {
     "name": "stdout",
     "output_type": "stream",
     "text": [
      "Factorial of 7 is 5040\n"
     ]
    }
   ],
   "source": [
    "fact=1\n",
    "def factorial(n):\n",
    "    global fact\n",
    "    fact=1\n",
    "    for i in range(1,n+1):\n",
    "        fact*=i\n",
    "    return fact\n",
    "num=int(input(\"Enter a number\"))\n",
    "if num<0:\n",
    "    print(\"cannot derive factorial for negative numbers\")\n",
    "else:\n",
    "    factorial(num)\n",
    "    print(f\"Factorial of {num} is\",fact)   "
   ]
  }
 ],
 "metadata": {
  "kernelspec": {
   "display_name": "Python 3 (ipykernel)",
   "language": "python",
   "name": "python3"
  },
  "language_info": {
   "codemirror_mode": {
    "name": "ipython",
    "version": 3
   },
   "file_extension": ".py",
   "mimetype": "text/x-python",
   "name": "python",
   "nbconvert_exporter": "python",
   "pygments_lexer": "ipython3",
   "version": "3.12.7"
  }
 },
 "nbformat": 4,
 "nbformat_minor": 5
}

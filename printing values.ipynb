{
 "cells": [
  {
   "cell_type": "code",
   "execution_count": 1,
   "id": "dde844dc-7a49-475a-a699-41e700ee410e",
   "metadata": {},
   "outputs": [
    {
     "name": "stdout",
     "output_type": "stream",
     "text": [
      "keys: dict_values(['Manasa', 20, 8.8])\n",
      "----------------\n",
      "('name', 'Manasa')\n",
      "('age', 20)\n",
      "('cgpa', 8.8)\n"
     ]
    }
   ],
   "source": [
    "'''keyword args ** kwargs'''\n",
    "def info(**kwargs):\n",
    "    print(\"keys:\",kwargs.values())\n",
    "    print(\"----------------\")\n",
    "    for value in kwargs.items():\n",
    "        print(value)\n",
    "info(name='Manasa',age=20,cgpa=8.8)"
   ]
  }
 ],
 "metadata": {
  "kernelspec": {
   "display_name": "Python 3 (ipykernel)",
   "language": "python",
   "name": "python3"
  },
  "language_info": {
   "codemirror_mode": {
    "name": "ipython",
    "version": 3
   },
   "file_extension": ".py",
   "mimetype": "text/x-python",
   "name": "python",
   "nbconvert_exporter": "python",
   "pygments_lexer": "ipython3",
   "version": "3.12.7"
  }
 },
 "nbformat": 4,
 "nbformat_minor": 5
}
